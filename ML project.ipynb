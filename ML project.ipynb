{
 "cells": [
  {
   "cell_type": "markdown",
   "id": "bf64052e",
   "metadata": {},
   "source": [
    "Importing the Dependencies"
   ]
  },
  {
   "cell_type": "code",
   "execution_count": 1,
   "id": "09893399",
   "metadata": {},
   "outputs": [],
   "source": [
    "import numpy as np\n",
    "import pandas as pd\n",
    "import matplotlib.pyplot as plt\n",
    "from sklearn.model_selection import train_test_split\n",
    "from sklearn.linear_model import LogisticRegression\n",
    "from sklearn.metrics import accuracy_score\n",
    "import copy\n",
    "import math\n",
    "\n",
    "%matplotlib inline"
   ]
  },
  {
   "cell_type": "markdown",
   "id": "5e0f0d41",
   "metadata": {},
   "source": [
    "Data Collection and Processing"
   ]
  },
  {
   "cell_type": "code",
   "execution_count": 2,
   "id": "1e02e8fb",
   "metadata": {},
   "outputs": [],
   "source": [
    "#loading the csv data to a Pandas DataFrame\n",
    "heart_data = pd.read_csv('/Users/manra/Downloads/heart.csv')"
   ]
  },
  {
   "cell_type": "code",
   "execution_count": 5,
   "id": "82dd7cc4",
   "metadata": {},
   "outputs": [
    {
     "data": {
      "text/html": [
       "<div>\n",
       "<style scoped>\n",
       "    .dataframe tbody tr th:only-of-type {\n",
       "        vertical-align: middle;\n",
       "    }\n",
       "\n",
       "    .dataframe tbody tr th {\n",
       "        vertical-align: top;\n",
       "    }\n",
       "\n",
       "    .dataframe thead th {\n",
       "        text-align: right;\n",
       "    }\n",
       "</style>\n",
       "<table border=\"1\" class=\"dataframe\">\n",
       "  <thead>\n",
       "    <tr style=\"text-align: right;\">\n",
       "      <th></th>\n",
       "      <th>age</th>\n",
       "      <th>sex</th>\n",
       "      <th>cp</th>\n",
       "      <th>trestbps</th>\n",
       "      <th>chol</th>\n",
       "      <th>fbs</th>\n",
       "      <th>restecg</th>\n",
       "      <th>thalach</th>\n",
       "      <th>exang</th>\n",
       "      <th>oldpeak</th>\n",
       "      <th>slope</th>\n",
       "      <th>ca</th>\n",
       "      <th>thal</th>\n",
       "      <th>target</th>\n",
       "    </tr>\n",
       "  </thead>\n",
       "  <tbody>\n",
       "    <tr>\n",
       "      <th>0</th>\n",
       "      <td>52</td>\n",
       "      <td>1</td>\n",
       "      <td>0</td>\n",
       "      <td>125</td>\n",
       "      <td>212</td>\n",
       "      <td>0</td>\n",
       "      <td>1</td>\n",
       "      <td>168</td>\n",
       "      <td>0</td>\n",
       "      <td>1.0</td>\n",
       "      <td>2</td>\n",
       "      <td>2</td>\n",
       "      <td>3</td>\n",
       "      <td>0</td>\n",
       "    </tr>\n",
       "    <tr>\n",
       "      <th>1</th>\n",
       "      <td>53</td>\n",
       "      <td>1</td>\n",
       "      <td>0</td>\n",
       "      <td>140</td>\n",
       "      <td>203</td>\n",
       "      <td>1</td>\n",
       "      <td>0</td>\n",
       "      <td>155</td>\n",
       "      <td>1</td>\n",
       "      <td>3.1</td>\n",
       "      <td>0</td>\n",
       "      <td>0</td>\n",
       "      <td>3</td>\n",
       "      <td>0</td>\n",
       "    </tr>\n",
       "    <tr>\n",
       "      <th>2</th>\n",
       "      <td>70</td>\n",
       "      <td>1</td>\n",
       "      <td>0</td>\n",
       "      <td>145</td>\n",
       "      <td>174</td>\n",
       "      <td>0</td>\n",
       "      <td>1</td>\n",
       "      <td>125</td>\n",
       "      <td>1</td>\n",
       "      <td>2.6</td>\n",
       "      <td>0</td>\n",
       "      <td>0</td>\n",
       "      <td>3</td>\n",
       "      <td>0</td>\n",
       "    </tr>\n",
       "    <tr>\n",
       "      <th>3</th>\n",
       "      <td>61</td>\n",
       "      <td>1</td>\n",
       "      <td>0</td>\n",
       "      <td>148</td>\n",
       "      <td>203</td>\n",
       "      <td>0</td>\n",
       "      <td>1</td>\n",
       "      <td>161</td>\n",
       "      <td>0</td>\n",
       "      <td>0.0</td>\n",
       "      <td>2</td>\n",
       "      <td>1</td>\n",
       "      <td>3</td>\n",
       "      <td>0</td>\n",
       "    </tr>\n",
       "    <tr>\n",
       "      <th>4</th>\n",
       "      <td>62</td>\n",
       "      <td>0</td>\n",
       "      <td>0</td>\n",
       "      <td>138</td>\n",
       "      <td>294</td>\n",
       "      <td>1</td>\n",
       "      <td>1</td>\n",
       "      <td>106</td>\n",
       "      <td>0</td>\n",
       "      <td>1.9</td>\n",
       "      <td>1</td>\n",
       "      <td>3</td>\n",
       "      <td>2</td>\n",
       "      <td>0</td>\n",
       "    </tr>\n",
       "  </tbody>\n",
       "</table>\n",
       "</div>"
      ],
      "text/plain": [
       "   age  sex  cp  trestbps  chol  fbs  restecg  thalach  exang  oldpeak  slope  \\\n",
       "0   52    1   0       125   212    0        1      168      0      1.0      2   \n",
       "1   53    1   0       140   203    1        0      155      1      3.1      0   \n",
       "2   70    1   0       145   174    0        1      125      1      2.6      0   \n",
       "3   61    1   0       148   203    0        1      161      0      0.0      2   \n",
       "4   62    0   0       138   294    1        1      106      0      1.9      1   \n",
       "\n",
       "   ca  thal  target  \n",
       "0   2     3       0  \n",
       "1   0     3       0  \n",
       "2   0     3       0  \n",
       "3   1     3       0  \n",
       "4   3     2       0  "
      ]
     },
     "execution_count": 5,
     "metadata": {},
     "output_type": "execute_result"
    }
   ],
   "source": [
    "#print first 5 rows of the dataset\n",
    "heart_data.head()"
   ]
  },
  {
   "cell_type": "code",
   "execution_count": 4,
   "id": "60a6ef2d",
   "metadata": {},
   "outputs": [
    {
     "data": {
      "text/html": [
       "<div>\n",
       "<style scoped>\n",
       "    .dataframe tbody tr th:only-of-type {\n",
       "        vertical-align: middle;\n",
       "    }\n",
       "\n",
       "    .dataframe tbody tr th {\n",
       "        vertical-align: top;\n",
       "    }\n",
       "\n",
       "    .dataframe thead th {\n",
       "        text-align: right;\n",
       "    }\n",
       "</style>\n",
       "<table border=\"1\" class=\"dataframe\">\n",
       "  <thead>\n",
       "    <tr style=\"text-align: right;\">\n",
       "      <th></th>\n",
       "      <th>age</th>\n",
       "      <th>sex</th>\n",
       "      <th>cp</th>\n",
       "      <th>trestbps</th>\n",
       "      <th>chol</th>\n",
       "      <th>fbs</th>\n",
       "      <th>restecg</th>\n",
       "      <th>thalach</th>\n",
       "      <th>exang</th>\n",
       "      <th>oldpeak</th>\n",
       "      <th>slope</th>\n",
       "      <th>ca</th>\n",
       "      <th>thal</th>\n",
       "      <th>target</th>\n",
       "    </tr>\n",
       "  </thead>\n",
       "  <tbody>\n",
       "    <tr>\n",
       "      <th>1020</th>\n",
       "      <td>59</td>\n",
       "      <td>1</td>\n",
       "      <td>1</td>\n",
       "      <td>140</td>\n",
       "      <td>221</td>\n",
       "      <td>0</td>\n",
       "      <td>1</td>\n",
       "      <td>164</td>\n",
       "      <td>1</td>\n",
       "      <td>0.0</td>\n",
       "      <td>2</td>\n",
       "      <td>0</td>\n",
       "      <td>2</td>\n",
       "      <td>1</td>\n",
       "    </tr>\n",
       "    <tr>\n",
       "      <th>1021</th>\n",
       "      <td>60</td>\n",
       "      <td>1</td>\n",
       "      <td>0</td>\n",
       "      <td>125</td>\n",
       "      <td>258</td>\n",
       "      <td>0</td>\n",
       "      <td>0</td>\n",
       "      <td>141</td>\n",
       "      <td>1</td>\n",
       "      <td>2.8</td>\n",
       "      <td>1</td>\n",
       "      <td>1</td>\n",
       "      <td>3</td>\n",
       "      <td>0</td>\n",
       "    </tr>\n",
       "    <tr>\n",
       "      <th>1022</th>\n",
       "      <td>47</td>\n",
       "      <td>1</td>\n",
       "      <td>0</td>\n",
       "      <td>110</td>\n",
       "      <td>275</td>\n",
       "      <td>0</td>\n",
       "      <td>0</td>\n",
       "      <td>118</td>\n",
       "      <td>1</td>\n",
       "      <td>1.0</td>\n",
       "      <td>1</td>\n",
       "      <td>1</td>\n",
       "      <td>2</td>\n",
       "      <td>0</td>\n",
       "    </tr>\n",
       "    <tr>\n",
       "      <th>1023</th>\n",
       "      <td>50</td>\n",
       "      <td>0</td>\n",
       "      <td>0</td>\n",
       "      <td>110</td>\n",
       "      <td>254</td>\n",
       "      <td>0</td>\n",
       "      <td>0</td>\n",
       "      <td>159</td>\n",
       "      <td>0</td>\n",
       "      <td>0.0</td>\n",
       "      <td>2</td>\n",
       "      <td>0</td>\n",
       "      <td>2</td>\n",
       "      <td>1</td>\n",
       "    </tr>\n",
       "    <tr>\n",
       "      <th>1024</th>\n",
       "      <td>54</td>\n",
       "      <td>1</td>\n",
       "      <td>0</td>\n",
       "      <td>120</td>\n",
       "      <td>188</td>\n",
       "      <td>0</td>\n",
       "      <td>1</td>\n",
       "      <td>113</td>\n",
       "      <td>0</td>\n",
       "      <td>1.4</td>\n",
       "      <td>1</td>\n",
       "      <td>1</td>\n",
       "      <td>3</td>\n",
       "      <td>0</td>\n",
       "    </tr>\n",
       "  </tbody>\n",
       "</table>\n",
       "</div>"
      ],
      "text/plain": [
       "      age  sex  cp  trestbps  chol  fbs  restecg  thalach  exang  oldpeak  \\\n",
       "1020   59    1   1       140   221    0        1      164      1      0.0   \n",
       "1021   60    1   0       125   258    0        0      141      1      2.8   \n",
       "1022   47    1   0       110   275    0        0      118      1      1.0   \n",
       "1023   50    0   0       110   254    0        0      159      0      0.0   \n",
       "1024   54    1   0       120   188    0        1      113      0      1.4   \n",
       "\n",
       "      slope  ca  thal  target  \n",
       "1020      2   0     2       1  \n",
       "1021      1   1     3       0  \n",
       "1022      1   1     2       0  \n",
       "1023      2   0     2       1  \n",
       "1024      1   1     3       0  "
      ]
     },
     "execution_count": 4,
     "metadata": {},
     "output_type": "execute_result"
    }
   ],
   "source": [
    "#print last 5 rows of the dataset\n",
    "heart_data.tail()"
   ]
  },
  {
   "cell_type": "code",
   "execution_count": 5,
   "id": "6b761750",
   "metadata": {},
   "outputs": [
    {
     "data": {
      "text/plain": [
       "(1025, 14)"
      ]
     },
     "execution_count": 5,
     "metadata": {},
     "output_type": "execute_result"
    }
   ],
   "source": [
    "#number of rows and columns in the dataset\n",
    "heart_data.shape"
   ]
  },
  {
   "cell_type": "code",
   "execution_count": 8,
   "id": "ab18b7e1",
   "metadata": {},
   "outputs": [
    {
     "name": "stdout",
     "output_type": "stream",
     "text": [
      "<class 'pandas.core.frame.DataFrame'>\n",
      "RangeIndex: 1025 entries, 0 to 1024\n",
      "Data columns (total 14 columns):\n",
      " #   Column    Non-Null Count  Dtype  \n",
      "---  ------    --------------  -----  \n",
      " 0   age       1025 non-null   int64  \n",
      " 1   sex       1025 non-null   int64  \n",
      " 2   cp        1025 non-null   int64  \n",
      " 3   trestbps  1025 non-null   int64  \n",
      " 4   chol      1025 non-null   int64  \n",
      " 5   fbs       1025 non-null   int64  \n",
      " 6   restecg   1025 non-null   int64  \n",
      " 7   thalach   1025 non-null   int64  \n",
      " 8   exang     1025 non-null   int64  \n",
      " 9   oldpeak   1025 non-null   float64\n",
      " 10  slope     1025 non-null   int64  \n",
      " 11  ca        1025 non-null   int64  \n",
      " 12  thal      1025 non-null   int64  \n",
      " 13  target    1025 non-null   int64  \n",
      "dtypes: float64(1), int64(13)\n",
      "memory usage: 112.2 KB\n"
     ]
    }
   ],
   "source": [
    "#getting some info about the data\n",
    "heart_data.info()"
   ]
  },
  {
   "cell_type": "code",
   "execution_count": 6,
   "id": "81fdd9f5",
   "metadata": {},
   "outputs": [
    {
     "data": {
      "text/plain": [
       "age         0\n",
       "sex         0\n",
       "cp          0\n",
       "trestbps    0\n",
       "chol        0\n",
       "fbs         0\n",
       "restecg     0\n",
       "thalach     0\n",
       "exang       0\n",
       "oldpeak     0\n",
       "slope       0\n",
       "ca          0\n",
       "thal        0\n",
       "target      0\n",
       "dtype: int64"
      ]
     },
     "execution_count": 6,
     "metadata": {},
     "output_type": "execute_result"
    }
   ],
   "source": [
    "#Checking for missing values\n",
    "heart_data.isnull().sum()"
   ]
  },
  {
   "cell_type": "code",
   "execution_count": 7,
   "id": "3e8082d2",
   "metadata": {},
   "outputs": [
    {
     "data": {
      "text/html": [
       "<div>\n",
       "<style scoped>\n",
       "    .dataframe tbody tr th:only-of-type {\n",
       "        vertical-align: middle;\n",
       "    }\n",
       "\n",
       "    .dataframe tbody tr th {\n",
       "        vertical-align: top;\n",
       "    }\n",
       "\n",
       "    .dataframe thead th {\n",
       "        text-align: right;\n",
       "    }\n",
       "</style>\n",
       "<table border=\"1\" class=\"dataframe\">\n",
       "  <thead>\n",
       "    <tr style=\"text-align: right;\">\n",
       "      <th></th>\n",
       "      <th>age</th>\n",
       "      <th>sex</th>\n",
       "      <th>cp</th>\n",
       "      <th>trestbps</th>\n",
       "      <th>chol</th>\n",
       "      <th>fbs</th>\n",
       "      <th>restecg</th>\n",
       "      <th>thalach</th>\n",
       "      <th>exang</th>\n",
       "      <th>oldpeak</th>\n",
       "      <th>slope</th>\n",
       "      <th>ca</th>\n",
       "      <th>thal</th>\n",
       "      <th>target</th>\n",
       "    </tr>\n",
       "  </thead>\n",
       "  <tbody>\n",
       "    <tr>\n",
       "      <th>count</th>\n",
       "      <td>1025.000000</td>\n",
       "      <td>1025.000000</td>\n",
       "      <td>1025.000000</td>\n",
       "      <td>1025.000000</td>\n",
       "      <td>1025.00000</td>\n",
       "      <td>1025.000000</td>\n",
       "      <td>1025.000000</td>\n",
       "      <td>1025.000000</td>\n",
       "      <td>1025.000000</td>\n",
       "      <td>1025.000000</td>\n",
       "      <td>1025.000000</td>\n",
       "      <td>1025.000000</td>\n",
       "      <td>1025.000000</td>\n",
       "      <td>1025.000000</td>\n",
       "    </tr>\n",
       "    <tr>\n",
       "      <th>mean</th>\n",
       "      <td>54.434146</td>\n",
       "      <td>0.695610</td>\n",
       "      <td>0.942439</td>\n",
       "      <td>131.611707</td>\n",
       "      <td>246.00000</td>\n",
       "      <td>0.149268</td>\n",
       "      <td>0.529756</td>\n",
       "      <td>149.114146</td>\n",
       "      <td>0.336585</td>\n",
       "      <td>1.071512</td>\n",
       "      <td>1.385366</td>\n",
       "      <td>0.754146</td>\n",
       "      <td>2.323902</td>\n",
       "      <td>0.513171</td>\n",
       "    </tr>\n",
       "    <tr>\n",
       "      <th>std</th>\n",
       "      <td>9.072290</td>\n",
       "      <td>0.460373</td>\n",
       "      <td>1.029641</td>\n",
       "      <td>17.516718</td>\n",
       "      <td>51.59251</td>\n",
       "      <td>0.356527</td>\n",
       "      <td>0.527878</td>\n",
       "      <td>23.005724</td>\n",
       "      <td>0.472772</td>\n",
       "      <td>1.175053</td>\n",
       "      <td>0.617755</td>\n",
       "      <td>1.030798</td>\n",
       "      <td>0.620660</td>\n",
       "      <td>0.500070</td>\n",
       "    </tr>\n",
       "    <tr>\n",
       "      <th>min</th>\n",
       "      <td>29.000000</td>\n",
       "      <td>0.000000</td>\n",
       "      <td>0.000000</td>\n",
       "      <td>94.000000</td>\n",
       "      <td>126.00000</td>\n",
       "      <td>0.000000</td>\n",
       "      <td>0.000000</td>\n",
       "      <td>71.000000</td>\n",
       "      <td>0.000000</td>\n",
       "      <td>0.000000</td>\n",
       "      <td>0.000000</td>\n",
       "      <td>0.000000</td>\n",
       "      <td>0.000000</td>\n",
       "      <td>0.000000</td>\n",
       "    </tr>\n",
       "    <tr>\n",
       "      <th>25%</th>\n",
       "      <td>48.000000</td>\n",
       "      <td>0.000000</td>\n",
       "      <td>0.000000</td>\n",
       "      <td>120.000000</td>\n",
       "      <td>211.00000</td>\n",
       "      <td>0.000000</td>\n",
       "      <td>0.000000</td>\n",
       "      <td>132.000000</td>\n",
       "      <td>0.000000</td>\n",
       "      <td>0.000000</td>\n",
       "      <td>1.000000</td>\n",
       "      <td>0.000000</td>\n",
       "      <td>2.000000</td>\n",
       "      <td>0.000000</td>\n",
       "    </tr>\n",
       "    <tr>\n",
       "      <th>50%</th>\n",
       "      <td>56.000000</td>\n",
       "      <td>1.000000</td>\n",
       "      <td>1.000000</td>\n",
       "      <td>130.000000</td>\n",
       "      <td>240.00000</td>\n",
       "      <td>0.000000</td>\n",
       "      <td>1.000000</td>\n",
       "      <td>152.000000</td>\n",
       "      <td>0.000000</td>\n",
       "      <td>0.800000</td>\n",
       "      <td>1.000000</td>\n",
       "      <td>0.000000</td>\n",
       "      <td>2.000000</td>\n",
       "      <td>1.000000</td>\n",
       "    </tr>\n",
       "    <tr>\n",
       "      <th>75%</th>\n",
       "      <td>61.000000</td>\n",
       "      <td>1.000000</td>\n",
       "      <td>2.000000</td>\n",
       "      <td>140.000000</td>\n",
       "      <td>275.00000</td>\n",
       "      <td>0.000000</td>\n",
       "      <td>1.000000</td>\n",
       "      <td>166.000000</td>\n",
       "      <td>1.000000</td>\n",
       "      <td>1.800000</td>\n",
       "      <td>2.000000</td>\n",
       "      <td>1.000000</td>\n",
       "      <td>3.000000</td>\n",
       "      <td>1.000000</td>\n",
       "    </tr>\n",
       "    <tr>\n",
       "      <th>max</th>\n",
       "      <td>77.000000</td>\n",
       "      <td>1.000000</td>\n",
       "      <td>3.000000</td>\n",
       "      <td>200.000000</td>\n",
       "      <td>564.00000</td>\n",
       "      <td>1.000000</td>\n",
       "      <td>2.000000</td>\n",
       "      <td>202.000000</td>\n",
       "      <td>1.000000</td>\n",
       "      <td>6.200000</td>\n",
       "      <td>2.000000</td>\n",
       "      <td>4.000000</td>\n",
       "      <td>3.000000</td>\n",
       "      <td>1.000000</td>\n",
       "    </tr>\n",
       "  </tbody>\n",
       "</table>\n",
       "</div>"
      ],
      "text/plain": [
       "               age          sex           cp     trestbps        chol  \\\n",
       "count  1025.000000  1025.000000  1025.000000  1025.000000  1025.00000   \n",
       "mean     54.434146     0.695610     0.942439   131.611707   246.00000   \n",
       "std       9.072290     0.460373     1.029641    17.516718    51.59251   \n",
       "min      29.000000     0.000000     0.000000    94.000000   126.00000   \n",
       "25%      48.000000     0.000000     0.000000   120.000000   211.00000   \n",
       "50%      56.000000     1.000000     1.000000   130.000000   240.00000   \n",
       "75%      61.000000     1.000000     2.000000   140.000000   275.00000   \n",
       "max      77.000000     1.000000     3.000000   200.000000   564.00000   \n",
       "\n",
       "               fbs      restecg      thalach        exang      oldpeak  \\\n",
       "count  1025.000000  1025.000000  1025.000000  1025.000000  1025.000000   \n",
       "mean      0.149268     0.529756   149.114146     0.336585     1.071512   \n",
       "std       0.356527     0.527878    23.005724     0.472772     1.175053   \n",
       "min       0.000000     0.000000    71.000000     0.000000     0.000000   \n",
       "25%       0.000000     0.000000   132.000000     0.000000     0.000000   \n",
       "50%       0.000000     1.000000   152.000000     0.000000     0.800000   \n",
       "75%       0.000000     1.000000   166.000000     1.000000     1.800000   \n",
       "max       1.000000     2.000000   202.000000     1.000000     6.200000   \n",
       "\n",
       "             slope           ca         thal       target  \n",
       "count  1025.000000  1025.000000  1025.000000  1025.000000  \n",
       "mean      1.385366     0.754146     2.323902     0.513171  \n",
       "std       0.617755     1.030798     0.620660     0.500070  \n",
       "min       0.000000     0.000000     0.000000     0.000000  \n",
       "25%       1.000000     0.000000     2.000000     0.000000  \n",
       "50%       1.000000     0.000000     2.000000     1.000000  \n",
       "75%       2.000000     1.000000     3.000000     1.000000  \n",
       "max       2.000000     4.000000     3.000000     1.000000  "
      ]
     },
     "execution_count": 7,
     "metadata": {},
     "output_type": "execute_result"
    }
   ],
   "source": [
    "#statistical measures about the data\n",
    "heart_data.describe()"
   ]
  },
  {
   "cell_type": "code",
   "execution_count": 8,
   "id": "ed55c350",
   "metadata": {},
   "outputs": [
    {
     "data": {
      "text/plain": [
       "1    526\n",
       "0    499\n",
       "Name: target, dtype: int64"
      ]
     },
     "execution_count": 8,
     "metadata": {},
     "output_type": "execute_result"
    }
   ],
   "source": [
    "#checking the distribution of Target variable\n",
    "heart_data['target'].value_counts()"
   ]
  },
  {
   "cell_type": "markdown",
   "id": "ed7d9b20",
   "metadata": {},
   "source": [
    "1 ---> Defective Heart\n",
    "0 ---> Healthy Heart"
   ]
  },
  {
   "cell_type": "markdown",
   "id": "d7671b97",
   "metadata": {},
   "source": [
    "Spliting the features and targets"
   ]
  },
  {
   "cell_type": "code",
   "execution_count": 3,
   "id": "f9a13867",
   "metadata": {},
   "outputs": [],
   "source": [
    "X = heart_data.drop(columns='target', axis=1)\n",
    "Y = heart_data['target']"
   ]
  },
  {
   "cell_type": "code",
   "execution_count": 10,
   "id": "926987d3",
   "metadata": {},
   "outputs": [
    {
     "name": "stdout",
     "output_type": "stream",
     "text": [
      "      age  sex  cp  trestbps  chol  fbs  restecg  thalach  exang  oldpeak  \\\n",
      "0      52    1   0       125   212    0        1      168      0      1.0   \n",
      "1      53    1   0       140   203    1        0      155      1      3.1   \n",
      "2      70    1   0       145   174    0        1      125      1      2.6   \n",
      "3      61    1   0       148   203    0        1      161      0      0.0   \n",
      "4      62    0   0       138   294    1        1      106      0      1.9   \n",
      "...   ...  ...  ..       ...   ...  ...      ...      ...    ...      ...   \n",
      "1020   59    1   1       140   221    0        1      164      1      0.0   \n",
      "1021   60    1   0       125   258    0        0      141      1      2.8   \n",
      "1022   47    1   0       110   275    0        0      118      1      1.0   \n",
      "1023   50    0   0       110   254    0        0      159      0      0.0   \n",
      "1024   54    1   0       120   188    0        1      113      0      1.4   \n",
      "\n",
      "      slope  ca  thal  \n",
      "0         2   2     3  \n",
      "1         0   0     3  \n",
      "2         0   0     3  \n",
      "3         2   1     3  \n",
      "4         1   3     2  \n",
      "...     ...  ..   ...  \n",
      "1020      2   0     2  \n",
      "1021      1   1     3  \n",
      "1022      1   1     2  \n",
      "1023      2   0     2  \n",
      "1024      1   1     3  \n",
      "\n",
      "[1025 rows x 13 columns]\n"
     ]
    }
   ],
   "source": [
    "print(X)"
   ]
  },
  {
   "cell_type": "code",
   "execution_count": 11,
   "id": "73127b2d",
   "metadata": {},
   "outputs": [
    {
     "name": "stdout",
     "output_type": "stream",
     "text": [
      "0       0\n",
      "1       0\n",
      "2       0\n",
      "3       0\n",
      "4       0\n",
      "       ..\n",
      "1020    1\n",
      "1021    0\n",
      "1022    0\n",
      "1023    1\n",
      "1024    0\n",
      "Name: target, Length: 1025, dtype: int64\n"
     ]
    }
   ],
   "source": [
    "print(Y)"
   ]
  },
  {
   "cell_type": "markdown",
   "id": "c579a159",
   "metadata": {},
   "source": [
    " Spliting the Data into Training data & Test Data"
   ]
  },
  {
   "cell_type": "code",
   "execution_count": 4,
   "id": "89fdd2be",
   "metadata": {},
   "outputs": [],
   "source": [
    "X_train, X_test, Y_train, Y_test = train_test_split(X, Y, test_size=0.2, stratify=Y, random_state=2)"
   ]
  },
  {
   "cell_type": "code",
   "execution_count": 13,
   "id": "41940921",
   "metadata": {},
   "outputs": [
    {
     "name": "stdout",
     "output_type": "stream",
     "text": [
      "(1025, 13) (820, 13) (205, 13)\n"
     ]
    }
   ],
   "source": [
    "print(X.shape, X_train.shape, X_test.shape)"
   ]
  },
  {
   "cell_type": "markdown",
   "id": "0a1f9423",
   "metadata": {},
   "source": [
    "converting training features and targets into numpy array"
   ]
  },
  {
   "cell_type": "code",
   "execution_count": 5,
   "id": "d18e08c8",
   "metadata": {},
   "outputs": [],
   "source": [
    "X_train = X_train.to_numpy()\n",
    "Y_train = Y_train.to_numpy()"
   ]
  },
  {
   "cell_type": "markdown",
   "id": "6eb8bc67",
   "metadata": {},
   "source": [
    "converting testing features and targets into numpy array"
   ]
  },
  {
   "cell_type": "code",
   "execution_count": 1,
   "id": "fabd5ab7",
   "metadata": {},
   "outputs": [
    {
     "ename": "NameError",
     "evalue": "name 'X_test' is not defined",
     "output_type": "error",
     "traceback": [
      "\u001b[1;31m---------------------------------------------------------------------------\u001b[0m",
      "\u001b[1;31mNameError\u001b[0m                                 Traceback (most recent call last)",
      "\u001b[1;32m~\\AppData\\Local\\Temp\\ipykernel_15408\\97298776.py\u001b[0m in \u001b[0;36m<module>\u001b[1;34m\u001b[0m\n\u001b[1;32m----> 1\u001b[1;33m \u001b[0mX_test\u001b[0m \u001b[1;33m=\u001b[0m \u001b[0mX_test\u001b[0m\u001b[1;33m.\u001b[0m\u001b[0mto_numpy\u001b[0m\u001b[1;33m(\u001b[0m\u001b[1;33m)\u001b[0m\u001b[1;33m\u001b[0m\u001b[1;33m\u001b[0m\u001b[0m\n\u001b[0m\u001b[0;32m      2\u001b[0m \u001b[0mY_test\u001b[0m \u001b[1;33m=\u001b[0m \u001b[0mY_test\u001b[0m\u001b[1;33m.\u001b[0m\u001b[0mto_numpy\u001b[0m\u001b[1;33m(\u001b[0m\u001b[1;33m)\u001b[0m\u001b[1;33m\u001b[0m\u001b[1;33m\u001b[0m\u001b[0m\n",
      "\u001b[1;31mNameError\u001b[0m: name 'X_test' is not defined"
     ]
    }
   ],
   "source": [
    "X_test = X_test.to_numpy()\n",
    "Y_test = Y_test.to_numpy()"
   ]
  },
  {
   "cell_type": "markdown",
   "id": "f9d2241a",
   "metadata": {},
   "source": [
    "Print first five data values of X_train and Y_train"
   ]
  },
  {
   "cell_type": "code",
   "execution_count": 11,
   "id": "7bd51af3",
   "metadata": {},
   "outputs": [
    {
     "name": "stdout",
     "output_type": "stream",
     "text": [
      "[[ 52.    1.    0.  128.  204.    1.    1.  156.    1.    1.    1.    0.\n",
      "    0. ]\n",
      " [ 64.    1.    2.  125.  309.    0.    1.  131.    1.    1.8   1.    0.\n",
      "    3. ]\n",
      " [ 51.    0.    2.  140.  308.    0.    0.  142.    0.    1.5   2.    1.\n",
      "    2. ]\n",
      " [ 52.    1.    3.  118.  186.    0.    0.  190.    0.    0.    1.    0.\n",
      "    1. ]\n",
      " [ 40.    1.    0.  110.  167.    0.    0.  114.    1.    2.    1.    0.\n",
      "    3. ]]\n"
     ]
    }
   ],
   "source": [
    "print(X_train[:5])"
   ]
  },
  {
   "cell_type": "code",
   "execution_count": 12,
   "id": "2ad89f4f",
   "metadata": {},
   "outputs": [
    {
     "name": "stdout",
     "output_type": "stream",
     "text": [
      "[0 0 1 1 0]\n"
     ]
    }
   ],
   "source": [
    "print(Y_train[:5])"
   ]
  },
  {
   "cell_type": "code",
   "execution_count": 7,
   "id": "319e7414",
   "metadata": {},
   "outputs": [],
   "source": [
    "X_features = ['age', 'sex', 'chest pain type', 'resting blood pressure', 'serum cholestrol', 'fasting blood sugar', 'resting electrocardiographic', 'max heart rate', 'agina','oldpeak','ST segment','major vessels','thal']"
   ]
  },
  {
   "cell_type": "markdown",
   "id": "03161692",
   "metadata": {},
   "source": [
    "Model Training"
   ]
  },
  {
   "cell_type": "markdown",
   "id": "06daa429",
   "metadata": {},
   "source": [
    "Logistic Regression"
   ]
  },
  {
   "cell_type": "markdown",
   "id": "24571e7c",
   "metadata": {},
   "source": [
    "Feature Scaling by z_score normalisation"
   ]
  },
  {
   "cell_type": "code",
   "execution_count": 15,
   "id": "65a5e580",
   "metadata": {},
   "outputs": [],
   "source": [
    "def zscore_normalize_features(X):\n",
    "    \"\"\"\n",
    "    computes  X, zcore normalized by column\n",
    "    \n",
    "    Args:\n",
    "      X (ndarray (m,n))     : input data, m examples, n features\n",
    "      \n",
    "    Returns:\n",
    "      X_norm (ndarray (m,n)): input normalized by column\n",
    "      mu (ndarray (n,))     : mean of each feature\n",
    "      sigma (ndarray (n,))  : standard deviation of each feature\n",
    "    \"\"\"\n",
    "    # find the mean of each column/feature\n",
    "    mu     = np.mean(X, axis=0)                 # mu will have shape (n,)\n",
    "    # find the standard deviation of each column/feature\n",
    "    sigma  = np.std(X, axis=0)                  # sigma will have shape (n,)\n",
    "    # element-wise, subtract mu for that column from each example, divide by std for that column\n",
    "    X_norm = (X - mu) / sigma      \n",
    "\n",
    "    return X_norm"
   ]
  },
  {
   "cell_type": "code",
   "execution_count": 16,
   "id": "35355b64",
   "metadata": {},
   "outputs": [],
   "source": [
    "X_train =  zscore_normalize_features(X_train)\n",
    "X_test =  zscore_normalize_features(X_test)"
   ]
  },
  {
   "attachments": {},
   "cell_type": "markdown",
   "id": "3434bb8e",
   "metadata": {},
   "source": [
    "Sigmoid function\n",
    "\n",
    "g(x)=(1)/(1+e^(-z))\n",
    "z= wx + b"
   ]
  },
  {
   "cell_type": "code",
   "execution_count": 17,
   "id": "7ad57e7a",
   "metadata": {},
   "outputs": [],
   "source": [
    "def sigmoid(z):\n",
    "    \"\"\"\n",
    "    Compute the sigmoid of z\n",
    "\n",
    "    Args:\n",
    "        z (ndarray): A scalar, numpy array of any size.\n",
    "\n",
    "    Returns:\n",
    "        g (ndarray): sigmoid(z), with the same shape as z\n",
    "         \n",
    "    \"\"\"\n",
    "    g = 1/(1+ np.exp(-z))\n",
    "    \n",
    "    return g"
   ]
  },
  {
   "cell_type": "markdown",
   "id": "f638601a",
   "metadata": {},
   "source": [
    "Cost Function\n",
    "\n",
    "𝑙𝑜𝑠𝑠(𝑓𝐰,𝑏(𝐱(𝑖)),𝑦(𝑖))=−𝑦(𝑖)log(𝑓𝐰,𝑏(𝐱(𝑖)))−(1−𝑦(𝑖))log(1−𝑓𝐰,𝑏(𝐱(𝑖)))"
   ]
  },
  {
   "cell_type": "code",
   "execution_count": 18,
   "id": "55d5f5ac",
   "metadata": {},
   "outputs": [],
   "source": [
    "def compute_cost(X, y, w, b, *argv):\n",
    "\n",
    "    m, n = X.shape\n",
    "    total_cost = 0\n",
    "    \n",
    "    for i in range(m):\n",
    "        z_wb = 0\n",
    "        for j in range(n):\n",
    "            z_wb += (w[j]*X[i][j])\n",
    "        z_wb += b\n",
    "        \n",
    "        f_wb = sigmoid(z_wb)\n",
    "        \n",
    "        loss = (-y[i]*math.log(f_wb))-((1-y[i])*math.log(1-f_wb))\n",
    "        \n",
    "        total_cost += loss\n",
    "        \n",
    "    total_cost = total_cost/m\n",
    "\n",
    "    return total_cost"
   ]
  },
  {
   "cell_type": "markdown",
   "id": "7e735d19",
   "metadata": {},
   "source": [
    "Gradient Function\n",
    "\n",
    "∂𝐽(𝐰,𝑏)/∂𝑤𝑗 = (1/𝑚)∑𝑖=0 to 𝑚−1(𝑓𝐰,𝑏(𝐱(𝑖))−𝑦(𝑖))𝑥(𝑖)𝑗\n",
    "∂𝐽(𝐰,𝑏)/∂𝑏 = (1/𝑚)∑𝑖=0 to 𝑚−1(𝑓𝐰,𝑏(𝐱(𝑖))−𝑦(𝑖))"
   ]
  },
  {
   "cell_type": "code",
   "execution_count": 19,
   "id": "9ccd5fee",
   "metadata": {},
   "outputs": [],
   "source": [
    "def compute_gradient(X, y, w, b, *argv): \n",
    "    m, n = X.shape\n",
    "    dj_dw = np.zeros(w.shape)\n",
    "    dj_db = 0.\n",
    "    for i in range(m):\n",
    "        z_wb = 0\n",
    "        for j in range(n): \n",
    "            z_wb += (w[j]*X[i][j])\n",
    "        z_wb += b\n",
    "        f_wb = sigmoid(z_wb)\n",
    "        \n",
    "        dj_db_i = f_wb - y[i]\n",
    "        dj_db += dj_db_i\n",
    "        \n",
    "        for j in range(n):\n",
    "            dj_dw[j] += (f_wb - y[i])*X[i][j]\n",
    "            \n",
    "    dj_dw = dj_dw/m\n",
    "    dj_db = dj_db/m\n",
    "    \n",
    "    return dj_db, dj_dw"
   ]
  },
  {
   "cell_type": "markdown",
   "id": "7feb4bf3",
   "metadata": {},
   "source": [
    "Gradient Descent\n",
    "\n",
    "repeat until convergence:{\n",
    "            𝑤𝑗=𝑤𝑗−𝛼∂𝐽(𝐰,𝑏)/∂𝑤𝑗\n",
    "            𝑏=𝑏−𝛼∂𝐽(𝐰,𝑏)/∂𝑏              for j := 0..n-1(1)\n",
    "        }"
   ]
  },
  {
   "cell_type": "code",
   "execution_count": 20,
   "id": "d67059f3",
   "metadata": {},
   "outputs": [],
   "source": [
    "def gradient_descent(X, y, w_in, b_in, cost_function, gradient_function, alpha, num_iters, lambda_): \n",
    "    # number of training examples\n",
    "    m = len(X)\n",
    "    \n",
    "    # An array to store cost J and w's at each iteration primarily for graphing later\n",
    "    J_history = []\n",
    "    w_history = []\n",
    "    \n",
    "    for i in range(num_iters):\n",
    "\n",
    "        # Calculate the gradient and update the parameters\n",
    "        dj_db, dj_dw = gradient_function(X, y, w_in, b_in, lambda_)   \n",
    "\n",
    "        # Update Parameters using w, b, alpha and gradient\n",
    "        w_in = w_in - alpha * dj_dw               \n",
    "        b_in = b_in - alpha * dj_db              \n",
    "       \n",
    "        # Save cost J at each iteration\n",
    "        if i<100000:      # prevent resource exhaustion \n",
    "            cost =  cost_function(X, y, w_in, b_in, lambda_)\n",
    "            J_history.append(cost)\n",
    "\n",
    "        # Print cost every at intervals 10 times or as many iterations if < 10\n",
    "        if i% math.ceil(num_iters/10) == 0 or i == (num_iters-1):\n",
    "            w_history.append(w_in)\n",
    "            print(f\"Iteration {i:4}: Cost {float(J_history[-1]):8.2f}   \")\n",
    "        \n",
    "    return w_in, b_in, J_history, w_history #return w and J,w history for graphing"
   ]
  },
  {
   "cell_type": "markdown",
   "id": "cf71df7f",
   "metadata": {},
   "source": [
    "Predict Function"
   ]
  },
  {
   "cell_type": "code",
   "execution_count": 21,
   "id": "22c9ba43",
   "metadata": {},
   "outputs": [],
   "source": [
    "def predict(X, w, b): \n",
    "    # number of training examples\n",
    "    m, n = X.shape   \n",
    "    p = np.zeros(m)\n",
    "   \n",
    "    ### START CODE HERE ### \n",
    "    # Loop over each example\n",
    "    for i in range(m):   \n",
    "        z_wb = 0\n",
    "        # Loop over each feature\n",
    "        for j in range(n): \n",
    "            # Add the corresponding term to z_wb\n",
    "#             print(z_wb)\n",
    "#             print(i, j)\n",
    "#             print(w[j])\n",
    "#             print(X[i][j])\n",
    "            z_wb += (w[j]*X[i][j])\n",
    "        \n",
    "        # Add bias term \n",
    "        z_wb += b\n",
    "        \n",
    "        # Calculate the prediction for this example\n",
    "        f_wb = sigmoid(z_wb)\n",
    "\n",
    "        # Apply the threshold\n",
    "        if(f_wb >= 0.5):\n",
    "            p[i] = 1\n",
    "        else:\n",
    "            p[i] = 0\n",
    "    return p"
   ]
  },
  {
   "cell_type": "markdown",
   "id": "0503f9c1",
   "metadata": {},
   "source": [
    "Training the model , calculating the values of w and b in f(w,b) = wx + b"
   ]
  },
  {
   "cell_type": "code",
   "execution_count": 23,
   "id": "fb08eef6",
   "metadata": {},
   "outputs": [
    {
     "name": "stdout",
     "output_type": "stream",
     "text": [
      "Iteration    0: Cost     0.69   \n",
      "Iteration 1000: Cost     0.50   \n",
      "Iteration 2000: Cost     0.44   \n",
      "Iteration 3000: Cost     0.40   \n",
      "Iteration 4000: Cost     0.39   \n",
      "Iteration 5000: Cost     0.38   \n",
      "Iteration 6000: Cost     0.37   \n",
      "Iteration 7000: Cost     0.36   \n",
      "Iteration 8000: Cost     0.36   \n",
      "Iteration 9000: Cost     0.36   \n",
      "Iteration 9999: Cost     0.35   \n"
     ]
    }
   ],
   "source": [
    "np.random.seed(1)\n",
    "m, n = X_train.shape\n",
    "initial_w = np.zeros(n)\n",
    "initial_b = 0\n",
    "\n",
    "# Some gradient descent settings\n",
    "iterations = 10000\n",
    "alpha = 0.001\n",
    "\n",
    "w,b, J_history,_ = gradient_descent(X_train ,Y_train, initial_w, initial_b, \n",
    "                   compute_cost, compute_gradient, alpha, iterations, 0)\n"
   ]
  },
  {
   "cell_type": "code",
   "execution_count": 25,
   "id": "7999b2b0",
   "metadata": {},
   "outputs": [
    {
     "name": "stdout",
     "output_type": "stream",
     "text": [
      "b,w found by gradient descent: -0.02,[-0.17416954 -0.49539023  0.58834699 -0.1534396  -0.12101612  0.02395421\n",
      "  0.13230742  0.44269496 -0.50757117 -0.4632981   0.28352167 -0.55558603\n",
      " -0.49053903] \n"
     ]
    }
   ],
   "source": [
    "print(f\"b,w found by gradient descent: {b:0.2f},{w} \")"
   ]
  },
  {
   "cell_type": "markdown",
   "id": "73f06890",
   "metadata": {},
   "source": [
    "Building predictive system"
   ]
  },
  {
   "cell_type": "code",
   "execution_count": 27,
   "id": "3086042e",
   "metadata": {},
   "outputs": [
    {
     "name": "stdout",
     "output_type": "stream",
     "text": [
      "[1.]\n",
      "The person have a heart disease\n"
     ]
    }
   ],
   "source": [
    "input_data = (50,0,1,120,244,0,1,162,0,1.1,2,0,2)\n",
    "\n",
    "#change the input data to a numpy array\n",
    "input_data_as_numpy_array = np.asarray(input_data)\n",
    "\n",
    "#reshape the numpy array as we are predicting for only one instance\n",
    "input_data_reshaped = input_data_as_numpy_array.reshape(1, -1)\n",
    "\n",
    "prediction = predict(input_data_reshaped, w, b)\n",
    "print(prediction)\n",
    "\n",
    "if(prediction[0] == 0):\n",
    "    print('The person does not have a heart disease')\n",
    "else:\n",
    "    print('The person have a heart disease')"
   ]
  },
  {
   "cell_type": "markdown",
   "id": "496642b1",
   "metadata": {},
   "source": [
    "Applying model on training data"
   ]
  },
  {
   "cell_type": "code",
   "execution_count": 30,
   "id": "401c4c19",
   "metadata": {},
   "outputs": [
    {
     "name": "stdout",
     "output_type": "stream",
     "text": [
      "Train Accuracy: 86.341463\n"
     ]
    }
   ],
   "source": [
    "p_train = predict(X_train, w, b)\n",
    "print('Train Accuracy: %f'%(np.mean(p_train == Y_train) * 100))"
   ]
  },
  {
   "cell_type": "markdown",
   "id": "1b9bc1c9",
   "metadata": {},
   "source": [
    "Converting test data to numpy arrays"
   ]
  },
  {
   "cell_type": "code",
   "execution_count": 70,
   "id": "feb41498",
   "metadata": {},
   "outputs": [],
   "source": [
    "X_test = X_test.to_numpy()\n",
    "Y_test = Y_test.to_numpy()"
   ]
  },
  {
   "cell_type": "code",
   "execution_count": 71,
   "id": "0e3de1c8",
   "metadata": {},
   "outputs": [
    {
     "name": "stdout",
     "output_type": "stream",
     "text": [
      "[[ 0.1419897   0.6967835  -0.91133374 ... -0.61475342  0.23662426\n",
      "  -1.97701199]\n",
      " [ 0.79123628 -1.43516602 -0.91133374 ... -0.61475342 -0.73353521\n",
      "  -0.46474536]\n",
      " [-1.48112675  0.6967835  -0.91133374 ...  0.98049279 -0.73353521\n",
      "   1.04752128]\n",
      " ...\n",
      " [-1.48112675 -1.43516602  0.08240784 ...  0.98049279 -0.73353521\n",
      "  -0.46474536]\n",
      " [ 1.11585957  0.6967835  -0.91133374 ...  0.98049279 -0.73353521\n",
      "   1.04752128]\n",
      " [-0.29084135  0.6967835  -0.91133374 ... -0.61475342 -0.73353521\n",
      "  -3.48927862]]\n"
     ]
    }
   ],
   "source": [
    "print(X_test)"
   ]
  },
  {
   "cell_type": "markdown",
   "id": "adf5370d",
   "metadata": {},
   "source": [
    "Predicting answers for test data"
   ]
  },
  {
   "cell_type": "code",
   "execution_count": 74,
   "id": "3ce8b9e5",
   "metadata": {
    "scrolled": false
   },
   "outputs": [
    {
     "name": "stdout",
     "output_type": "stream",
     "text": [
      "prediction: 0.0, target value: 0\n",
      "prediction: 1.0, target value: 1\n",
      "prediction: 1.0, target value: 0\n",
      "prediction: 0.0, target value: 0\n",
      "prediction: 0.0, target value: 1\n",
      "prediction: 1.0, target value: 0\n",
      "prediction: 1.0, target value: 1\n",
      "prediction: 1.0, target value: 1\n",
      "prediction: 0.0, target value: 0\n",
      "prediction: 0.0, target value: 0\n",
      "prediction: 1.0, target value: 1\n",
      "prediction: 1.0, target value: 0\n",
      "prediction: 1.0, target value: 1\n",
      "prediction: 1.0, target value: 1\n",
      "prediction: 1.0, target value: 0\n",
      "prediction: 1.0, target value: 0\n",
      "prediction: 1.0, target value: 1\n",
      "prediction: 1.0, target value: 1\n",
      "prediction: 1.0, target value: 1\n",
      "prediction: 0.0, target value: 1\n",
      "prediction: 1.0, target value: 0\n",
      "prediction: 1.0, target value: 0\n",
      "prediction: 0.0, target value: 0\n",
      "prediction: 1.0, target value: 1\n",
      "prediction: 1.0, target value: 1\n",
      "prediction: 0.0, target value: 0\n",
      "prediction: 0.0, target value: 0\n",
      "prediction: 0.0, target value: 1\n",
      "prediction: 1.0, target value: 1\n",
      "prediction: 1.0, target value: 0\n",
      "prediction: 1.0, target value: 1\n",
      "prediction: 1.0, target value: 1\n",
      "prediction: 0.0, target value: 0\n",
      "prediction: 1.0, target value: 1\n",
      "prediction: 1.0, target value: 1\n",
      "prediction: 1.0, target value: 1\n",
      "prediction: 1.0, target value: 1\n",
      "prediction: 0.0, target value: 0\n",
      "prediction: 1.0, target value: 0\n",
      "prediction: 0.0, target value: 0\n",
      "prediction: 0.0, target value: 0\n",
      "prediction: 0.0, target value: 0\n",
      "prediction: 1.0, target value: 1\n",
      "prediction: 0.0, target value: 1\n",
      "prediction: 1.0, target value: 1\n",
      "prediction: 0.0, target value: 0\n",
      "prediction: 1.0, target value: 1\n",
      "prediction: 0.0, target value: 0\n",
      "prediction: 0.0, target value: 0\n",
      "prediction: 1.0, target value: 1\n",
      "prediction: 0.0, target value: 0\n",
      "prediction: 0.0, target value: 0\n",
      "prediction: 1.0, target value: 1\n",
      "prediction: 0.0, target value: 1\n",
      "prediction: 0.0, target value: 0\n",
      "prediction: 0.0, target value: 0\n",
      "prediction: 0.0, target value: 0\n",
      "prediction: 0.0, target value: 0\n",
      "prediction: 1.0, target value: 0\n",
      "prediction: 1.0, target value: 1\n",
      "prediction: 0.0, target value: 1\n",
      "prediction: 0.0, target value: 0\n",
      "prediction: 0.0, target value: 1\n",
      "prediction: 0.0, target value: 0\n",
      "prediction: 1.0, target value: 1\n",
      "prediction: 1.0, target value: 1\n",
      "prediction: 1.0, target value: 1\n",
      "prediction: 1.0, target value: 1\n",
      "prediction: 0.0, target value: 0\n",
      "prediction: 0.0, target value: 1\n",
      "prediction: 1.0, target value: 1\n",
      "prediction: 1.0, target value: 1\n",
      "prediction: 0.0, target value: 0\n",
      "prediction: 0.0, target value: 1\n",
      "prediction: 1.0, target value: 1\n",
      "prediction: 1.0, target value: 1\n",
      "prediction: 1.0, target value: 1\n",
      "prediction: 1.0, target value: 1\n",
      "prediction: 0.0, target value: 0\n",
      "prediction: 0.0, target value: 1\n",
      "prediction: 1.0, target value: 0\n",
      "prediction: 1.0, target value: 1\n",
      "prediction: 0.0, target value: 0\n",
      "prediction: 1.0, target value: 0\n",
      "prediction: 0.0, target value: 0\n",
      "prediction: 0.0, target value: 0\n",
      "prediction: 0.0, target value: 0\n",
      "prediction: 1.0, target value: 1\n",
      "prediction: 0.0, target value: 0\n",
      "prediction: 1.0, target value: 1\n",
      "prediction: 1.0, target value: 1\n",
      "prediction: 1.0, target value: 0\n",
      "prediction: 1.0, target value: 1\n",
      "prediction: 1.0, target value: 1\n",
      "prediction: 1.0, target value: 1\n",
      "prediction: 1.0, target value: 0\n",
      "prediction: 0.0, target value: 0\n",
      "prediction: 1.0, target value: 1\n",
      "prediction: 1.0, target value: 1\n",
      "prediction: 1.0, target value: 1\n",
      "prediction: 1.0, target value: 1\n",
      "prediction: 1.0, target value: 1\n",
      "prediction: 0.0, target value: 0\n",
      "prediction: 0.0, target value: 0\n",
      "prediction: 0.0, target value: 0\n",
      "prediction: 0.0, target value: 0\n",
      "prediction: 1.0, target value: 1\n",
      "prediction: 1.0, target value: 1\n",
      "prediction: 1.0, target value: 0\n",
      "prediction: 0.0, target value: 0\n",
      "prediction: 0.0, target value: 0\n",
      "prediction: 1.0, target value: 1\n",
      "prediction: 0.0, target value: 0\n",
      "prediction: 0.0, target value: 0\n",
      "prediction: 0.0, target value: 0\n",
      "prediction: 0.0, target value: 0\n",
      "prediction: 0.0, target value: 0\n",
      "prediction: 1.0, target value: 1\n",
      "prediction: 1.0, target value: 1\n",
      "prediction: 1.0, target value: 1\n",
      "prediction: 0.0, target value: 0\n",
      "prediction: 1.0, target value: 0\n",
      "prediction: 0.0, target value: 0\n",
      "prediction: 0.0, target value: 0\n",
      "prediction: 1.0, target value: 0\n",
      "prediction: 0.0, target value: 0\n",
      "prediction: 1.0, target value: 0\n",
      "prediction: 0.0, target value: 0\n",
      "prediction: 1.0, target value: 1\n",
      "prediction: 1.0, target value: 1\n",
      "prediction: 1.0, target value: 1\n",
      "prediction: 1.0, target value: 1\n",
      "prediction: 1.0, target value: 1\n",
      "prediction: 1.0, target value: 1\n",
      "prediction: 1.0, target value: 1\n",
      "prediction: 1.0, target value: 1\n",
      "prediction: 0.0, target value: 0\n",
      "prediction: 0.0, target value: 0\n",
      "prediction: 1.0, target value: 1\n",
      "prediction: 1.0, target value: 1\n",
      "prediction: 0.0, target value: 0\n",
      "prediction: 1.0, target value: 1\n",
      "prediction: 1.0, target value: 1\n",
      "prediction: 0.0, target value: 0\n",
      "prediction: 1.0, target value: 1\n",
      "prediction: 0.0, target value: 0\n",
      "prediction: 1.0, target value: 0\n",
      "prediction: 1.0, target value: 0\n",
      "prediction: 0.0, target value: 0\n",
      "prediction: 0.0, target value: 0\n",
      "prediction: 0.0, target value: 1\n",
      "prediction: 1.0, target value: 1\n",
      "prediction: 0.0, target value: 0\n",
      "prediction: 1.0, target value: 1\n",
      "prediction: 1.0, target value: 0\n",
      "prediction: 1.0, target value: 1\n",
      "prediction: 0.0, target value: 1\n",
      "prediction: 0.0, target value: 0\n",
      "prediction: 0.0, target value: 0\n",
      "prediction: 1.0, target value: 1\n",
      "prediction: 1.0, target value: 1\n",
      "prediction: 1.0, target value: 1\n",
      "prediction: 1.0, target value: 1\n",
      "prediction: 1.0, target value: 0\n",
      "prediction: 1.0, target value: 1\n",
      "prediction: 0.0, target value: 0\n",
      "prediction: 1.0, target value: 0\n",
      "prediction: 0.0, target value: 1\n",
      "prediction: 1.0, target value: 1\n",
      "prediction: 0.0, target value: 0\n",
      "prediction: 0.0, target value: 0\n",
      "prediction: 1.0, target value: 1\n",
      "prediction: 1.0, target value: 1\n",
      "prediction: 0.0, target value: 0\n",
      "prediction: 0.0, target value: 0\n",
      "prediction: 0.0, target value: 0\n",
      "prediction: 0.0, target value: 0\n",
      "prediction: 1.0, target value: 1\n",
      "prediction: 0.0, target value: 0\n",
      "prediction: 1.0, target value: 1\n",
      "prediction: 0.0, target value: 0\n",
      "prediction: 0.0, target value: 0\n",
      "prediction: 1.0, target value: 1\n",
      "prediction: 0.0, target value: 0\n",
      "prediction: 1.0, target value: 1\n",
      "prediction: 1.0, target value: 1\n",
      "prediction: 1.0, target value: 1\n",
      "prediction: 0.0, target value: 0\n",
      "prediction: 0.0, target value: 0\n",
      "prediction: 0.0, target value: 0\n",
      "prediction: 1.0, target value: 1\n",
      "prediction: 1.0, target value: 0\n",
      "prediction: 0.0, target value: 1\n",
      "prediction: 1.0, target value: 1\n",
      "prediction: 1.0, target value: 1\n",
      "prediction: 1.0, target value: 1\n",
      "prediction: 1.0, target value: 1\n",
      "prediction: 1.0, target value: 1\n",
      "prediction: 0.0, target value: 0\n",
      "prediction: 1.0, target value: 1\n",
      "prediction: 0.0, target value: 0\n",
      "prediction: 1.0, target value: 0\n",
      "prediction: 1.0, target value: 1\n",
      "prediction: 0.0, target value: 1\n",
      "prediction: 1.0, target value: 0\n"
     ]
    }
   ],
   "source": [
    "m2,_ = X_test.shape\n",
    "# print(m2, _)\n",
    "p_test = predict(X_test, w, b)\n",
    "for i in range(m2):\n",
    "    print(f\"prediction: {p_test[i]}, target value: {Y_test[i]}\")"
   ]
  },
  {
   "cell_type": "markdown",
   "id": "554d5dfd",
   "metadata": {},
   "source": [
    "Calculating accuracy for test data"
   ]
  },
  {
   "cell_type": "code",
   "execution_count": 31,
   "id": "f194b851",
   "metadata": {},
   "outputs": [
    {
     "name": "stdout",
     "output_type": "stream",
     "text": [
      "Test Accuracy: 80.000000\n"
     ]
    }
   ],
   "source": [
    "p_test = predict(X_test, w, b)\n",
    "print('Test Accuracy: %f'%(np.mean(p_test == Y_test) * 100))"
   ]
  },
  {
   "cell_type": "markdown",
   "id": "cce3338b",
   "metadata": {},
   "source": [
    "Model training Using inbuilt function of Scikit-learn"
   ]
  },
  {
   "cell_type": "code",
   "execution_count": 33,
   "id": "710453e9",
   "metadata": {},
   "outputs": [],
   "source": [
    "model = LogisticRegression()"
   ]
  },
  {
   "cell_type": "code",
   "execution_count": 34,
   "id": "5ae1d323",
   "metadata": {},
   "outputs": [
    {
     "data": {
      "text/plain": [
       "LogisticRegression()"
      ]
     },
     "execution_count": 34,
     "metadata": {},
     "output_type": "execute_result"
    }
   ],
   "source": [
    "#training the LogisticRegression model with Training data\n",
    "model.fit(X_train, Y_train)"
   ]
  },
  {
   "cell_type": "markdown",
   "id": "6ba8761c",
   "metadata": {},
   "source": [
    "Model Evaluation\n",
    "\n",
    "Accuracy Score"
   ]
  },
  {
   "cell_type": "code",
   "execution_count": 36,
   "id": "ea0ddf4f",
   "metadata": {},
   "outputs": [],
   "source": [
    "#accuracy on training data\n",
    "X_train_prediction = model.predict(X_train)\n",
    "training_data_accuracy = accuracy_score(X_train_prediction, Y_train)"
   ]
  },
  {
   "cell_type": "code",
   "execution_count": 37,
   "id": "ff7d292f",
   "metadata": {},
   "outputs": [
    {
     "name": "stdout",
     "output_type": "stream",
     "text": [
      "Accuracy score on Training data :  0.8585365853658536\n"
     ]
    }
   ],
   "source": [
    "print('Accuracy score on Training data : ', training_data_accuracy)"
   ]
  },
  {
   "cell_type": "code",
   "execution_count": 38,
   "id": "38037665",
   "metadata": {},
   "outputs": [],
   "source": [
    "#accuracy on test data\n",
    "X_test_prediction = model.predict(X_test)\n",
    "test_data_accuracy = accuracy_score(X_test_prediction, Y_test)"
   ]
  },
  {
   "cell_type": "code",
   "execution_count": 39,
   "id": "3e440577",
   "metadata": {},
   "outputs": [
    {
     "name": "stdout",
     "output_type": "stream",
     "text": [
      "Accuracy score on Test data :  0.8097560975609757\n"
     ]
    }
   ],
   "source": [
    "print('Accuracy score on Test data : ', test_data_accuracy)"
   ]
  },
  {
   "cell_type": "markdown",
   "id": "6079608c",
   "metadata": {},
   "source": [
    "Building a Predictive System"
   ]
  },
  {
   "cell_type": "code",
   "execution_count": 32,
   "id": "cfc241b8",
   "metadata": {},
   "outputs": [
    {
     "name": "stdout",
     "output_type": "stream",
     "text": [
      "[0]\n",
      "The person does not have a heart disease\n"
     ]
    }
   ],
   "source": [
    "input_data = (51,1,0,140,298,0,1,122,1,4.2,1,3,3)\n",
    "\n",
    "#change the input data to a numpy array\n",
    "input_data_as_numpy_array = np.asarray(input_data)\n",
    "\n",
    "#reshape the numpy array as we are predicting for only one instance\n",
    "input_data_reshaped = input_data_as_numpy_array.reshape(1, -1)\n",
    "\n",
    "prediction = model.predict(input_data_reshaped)\n",
    "print(prediction)\n",
    "\n",
    "if(prediction[0] == 0):\n",
    "    print('The person does not have a heart disease')\n",
    "else:\n",
    "    print('The person have a heart disease')"
   ]
  },
  {
   "cell_type": "code",
   "execution_count": null,
   "id": "ea48aaa8",
   "metadata": {},
   "outputs": [],
   "source": []
  },
  {
   "cell_type": "code",
   "execution_count": null,
   "id": "2a77957d",
   "metadata": {},
   "outputs": [],
   "source": []
  },
  {
   "cell_type": "code",
   "execution_count": null,
   "id": "78852eff",
   "metadata": {},
   "outputs": [],
   "source": []
  }
 ],
 "metadata": {
  "kernelspec": {
   "display_name": "Python 3 (ipykernel)",
   "language": "python",
   "name": "python3"
  },
  "language_info": {
   "codemirror_mode": {
    "name": "ipython",
    "version": 3
   },
   "file_extension": ".py",
   "mimetype": "text/x-python",
   "name": "python",
   "nbconvert_exporter": "python",
   "pygments_lexer": "ipython3",
   "version": "3.9.13"
  }
 },
 "nbformat": 4,
 "nbformat_minor": 5
}
